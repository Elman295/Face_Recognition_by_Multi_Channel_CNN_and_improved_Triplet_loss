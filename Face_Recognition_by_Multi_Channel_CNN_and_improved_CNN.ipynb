{
  "nbformat": 4,
  "nbformat_minor": 0,
  "metadata": {
    "colab": {
      "provenance": [],
      "authorship_tag": "ABX9TyMNmpD9uKNSdGbTuGOTgXmj",
      "include_colab_link": true
    },
    "kernelspec": {
      "name": "python3",
      "display_name": "Python 3"
    },
    "language_info": {
      "name": "python"
    }
  },
  "cells": [
    {
      "cell_type": "markdown",
      "metadata": {
        "id": "view-in-github",
        "colab_type": "text"
      },
      "source": [
        "<a href=\"https://colab.research.google.com/github/Elman295/Face_Recognition_by_Multi_Channel_CNN_and_improved_Triplet_loss/blob/main/Face_Recognition_by_Multi_Channel_CNN_and_improved_CNN.ipynb\" target=\"_parent\"><img src=\"https://colab.research.google.com/assets/colab-badge.svg\" alt=\"Open In Colab\"/></a>"
      ]
    },
    {
      "cell_type": "code",
      "execution_count": null,
      "metadata": {
        "id": "7lg6BbMv9LwH"
      },
      "outputs": [],
      "source": [
        "import numpy as np\n",
        "import matplotlib.pyplot as plt\n",
        "import os\n",
        "import zipfile\n",
        "import random\n",
        "from PIL import Image\n",
        "from sklearn.model_selection import train_test_split\n",
        "from sklearn.manifold import TSNE\n",
        "\n",
        "import torch\n",
        "import torchvision\n",
        "from torchvision import datasets,transforms\n",
        "from torch.utils.data import DataLoader, Dataset\n",
        "from torch import nn\n",
        "import torch.nn.functional as F"
      ]
    },
    {
      "cell_type": "markdown",
      "source": [
        "#`Data`"
      ],
      "metadata": {
        "id": "8JSTZeNX-wRS"
      }
    },
    {
      "cell_type": "code",
      "source": [
        "with zipfile.ZipFile(\"att_faces.zip\",\"r\") as f:\n",
        "  f.extractall(\"data\")"
      ],
      "metadata": {
        "id": "nl7-KYcs-u6R"
      },
      "execution_count": null,
      "outputs": []
    },
    {
      "cell_type": "code",
      "source": [
        "data_path = os.path.join(\"data\", \"att_faces\")\n",
        "\n",
        "data = datasets.ImageFolder(\n",
        "    root = data_path\n",
        ")"
      ],
      "metadata": {
        "id": "Aj7W9gr1-9f4"
      },
      "execution_count": null,
      "outputs": []
    },
    {
      "cell_type": "code",
      "source": [
        "tfms = transforms.Compose([\n",
        "    transforms.Resize( size = (100,100)),\n",
        "    transforms.ToTensor()\n",
        "])"
      ],
      "metadata": {
        "id": "Wqq_fHey_L4a"
      },
      "execution_count": null,
      "outputs": []
    },
    {
      "cell_type": "code",
      "source": [
        "class Triple_data(Dataset):\n",
        "\n",
        "  def __init__(self, data, transform = None):\n",
        "    self.data = data\n",
        "    self.tfms = transform\n",
        "\n",
        "  def __len__(self):\n",
        "    return len(self.data)\n",
        "\n",
        "  def __getitem__(self, idx):\n",
        "\n",
        "    anchor, anchor_label = self.data[idx]\n",
        "\n",
        "    pos = random.choice([img for img,lbl in self.data if lbl == anchor_label])\n",
        "    neg = random.choice([img for img,lbl in self.data if lbl != anchor_label])\n",
        "\n",
        "    anchor = Image.open(anchor).convert(\"RGB\")\n",
        "    pos = Image.open(pos).convert(\"RGB\")\n",
        "    neg = Image.open(neg).convert(\"RGB\")\n",
        "\n",
        "    if self.tfms is not None:\n",
        "      a = self.tfms(anchor)\n",
        "      p = self.tfms(pos)\n",
        "      n = self.tfms(neg)\n",
        "\n",
        "\n",
        "    return a,p,n"
      ],
      "metadata": {
        "id": "pA58b-4g_LXY"
      },
      "execution_count": null,
      "outputs": []
    },
    {
      "cell_type": "code",
      "source": [
        "data_ds = Triple_data(data.imgs, tfms)\n",
        "\n",
        "a,p,n = data_ds[0]\n",
        "plt.subplot(1,3,1)\n",
        "plt.imshow(a.permute(1,2,0))\n",
        "plt.title(\"anchor\")\n",
        "plt.axis(\"off\")\n",
        "plt.subplot(1,3,2)\n",
        "plt.imshow(p.permute(1,2,0))\n",
        "plt.title(\"positive\")\n",
        "plt.axis(\"off\")\n",
        "plt.subplot(1,3,3)\n",
        "plt.imshow(n.permute(1,2,0))\n",
        "plt.title(\"negative\")\n",
        "plt.axis(\"off\")\n",
        "plt.show()"
      ],
      "metadata": {
        "colab": {
          "base_uri": "https://localhost:8080/",
          "height": 205
        },
        "id": "qNh9uzhdAbE6",
        "outputId": "43ea2ab5-6da1-4bdb-f544-56e825ac0a8e"
      },
      "execution_count": null,
      "outputs": [
        {
          "output_type": "display_data",
          "data": {
            "text/plain": [
              "<Figure size 640x480 with 3 Axes>"
            ],
            "image/png": "[encoded data removed]"
          },
          "metadata": {}
        }
      ]
    },
    {
      "cell_type": "code",
      "source": [
        "train_ds, test_ds = train_test_split(data_ds, test_size = 0.2)\n",
        "\n",
        "train_dl = DataLoader(dataset = train_ds, batch_size = 16, shuffle = True)\n",
        "\n",
        "test_dl = DataLoader(dataset = test_ds, batch_size = 16, shuffle = False)"
      ],
      "metadata": {
        "id": "xl_h1cj-A747"
      },
      "execution_count": null,
      "outputs": []
    },
    {
      "cell_type": "markdown",
      "source": [
        "#`Multi Channel CNN`"
      ],
      "metadata": {
        "id": "Lmv5KNYMBn0q"
      }
    },
    {
      "cell_type": "code",
      "source": [
        "def patchify(data, patch_size = 50):\n",
        "\n",
        "  b,c,w,h = data.size()\n",
        "  img1 = data[:,:,:patch_size,:patch_size]\n",
        "  img2 = data[:,:,: patch_size,patch_size:2*patch_size]\n",
        "  img3 = data[:,:,patch_size:,:patch_size]\n",
        "  img4 = data[:,:, patch_size:, patch_size:]\n",
        "\n",
        "  return img1,img2, img3, img4"
      ],
      "metadata": {
        "id": "xyqg8rqLBhaW"
      },
      "execution_count": null,
      "outputs": []
    },
    {
      "cell_type": "code",
      "source": [
        "a = a.view((1,3,100,100))\n",
        "img1, img2, img3, img4 = patchify(a)"
      ],
      "metadata": {
        "id": "JC889kk4FA2v"
      },
      "execution_count": null,
      "outputs": []
    },
    {
      "cell_type": "code",
      "source": [
        "img1.shape"
      ],
      "metadata": {
        "colab": {
          "base_uri": "https://localhost:8080/"
        },
        "id": "Rm1qukyUGQ-k",
        "outputId": "3f65913f-ec24-4206-b819-ee3f4045ad50"
      },
      "execution_count": null,
      "outputs": [
        {
          "output_type": "execute_result",
          "data": {
            "text/plain": [
              "torch.Size([1, 3, 50, 50])"
            ]
          },
          "metadata": {},
          "execution_count": 57
        }
      ]
    },
    {
      "cell_type": "code",
      "source": [
        "plt.subplot(2,2,1)\n",
        "plt.imshow(img1[0].permute(1,2,0))\n",
        "plt.subplot(2,2,2)\n",
        "plt.imshow(img2[0].permute(1,2,0))\n",
        "plt.subplot(2,2,3)\n",
        "plt.imshow(img3[0].permute(1,2,0))\n",
        "plt.subplot(2,2,4)\n",
        "plt.imshow(img4[0].permute(1,2,0))\n",
        "plt.show()"
      ],
      "metadata": {
        "colab": {
          "base_uri": "https://localhost:8080/",
          "height": 434
        },
        "id": "ohs-z2QlFLM6",
        "outputId": "a49fdb1b-908a-4f67-fed5-9f437c22b447"
      },
      "execution_count": null,
      "outputs": [
        {
          "output_type": "display_data",
          "data": {
            "text/plain": [
              "<Figure size 640x480 with 4 Axes>"
            ],
            "image/png": "[encoded data removed]"
          },
          "metadata": {}
        }
      ]
    },
    {
      "cell_type": "code",
      "source": [
        "class Multi_channel(nn.Module):\n",
        "\n",
        "  def __init__(self):\n",
        "    super(Multi_channel, self).__init__()\n",
        "\n",
        "    self.full_face = nn.Sequential(\n",
        "        nn.Conv2d(3,3,7,3),\n",
        "        nn.ReLU()\n",
        "    )\n",
        "\n",
        "    self.part_face_1 = nn.Sequential(\n",
        "        nn.Conv2d(3,32,3,1),\n",
        "        nn.ReLU(),\n",
        "        nn.MaxPool2d(2,2)\n",
        "    )\n",
        "\n",
        "\n",
        "    self.part_face_2 = nn.Sequential(\n",
        "        nn.Conv2d(3,32,3,1),\n",
        "        nn.ReLU(),\n",
        "        nn.MaxPool2d(2,2)\n",
        "    )\n",
        "\n",
        "\n",
        "    self.part_face_3 = nn.Sequential(\n",
        "        nn.Conv2d(3,32,3,1),\n",
        "        nn.ReLU(),\n",
        "        nn.MaxPool2d(2,2)\n",
        "    )\n",
        "\n",
        "\n",
        "\n",
        "    self.part_face_4 = nn.Sequential(\n",
        "        nn.Conv2d(3,32,3,1),\n",
        "        nn.ReLU(),\n",
        "        nn.MaxPool2d(2,2)\n",
        "    )\n",
        "\n",
        "\n",
        "    self.clf_1 = nn.Sequential(\n",
        "        nn.Linear(7*7*32,256),\n",
        "        nn.ReLU(),\n",
        "        nn.Linear(256,100)\n",
        "    )\n",
        "\n",
        "\n",
        "    self.clf_2 = nn.Sequential(\n",
        "        nn.Linear(7*7*32,256),\n",
        "        nn.ReLU(),\n",
        "        nn.Linear(256,100)\n",
        "    )\n",
        "\n",
        "\n",
        "    self.clf_3 = nn.Sequential(\n",
        "        nn.Linear(7*7*32,256),\n",
        "        nn.ReLU(),\n",
        "        nn.Linear(256,100)\n",
        "    )\n",
        "\n",
        "\n",
        "    self.clf_4 = nn.Sequential(\n",
        "        nn.Linear(7*7*32,256),\n",
        "        nn.ReLU(),\n",
        "        nn.Linear(256,100)\n",
        "    )\n",
        "\n",
        "\n",
        "  def forward(self,x):\n",
        "\n",
        "    f = self.full_face(x)\n",
        "    f1,f2,f3,f4 = patchify(f,16)\n",
        "    f1 = self.part_face_1(f1)\n",
        "    f2 = self.part_face_2(f2)\n",
        "    f3 = self.part_face_3(f3)\n",
        "    f4 = self.part_face_4(f4)\n",
        "\n",
        "    f1 = f1.view((-1,7*7*32))\n",
        "    f2 = f2.view((-1,7*7*32))\n",
        "    f3 = f3.view((-1,7*7*32))\n",
        "    f4 = f4.view((-1,7*7*32))\n",
        "\n",
        "    f1 = self.clf_1(f1)\n",
        "    f2 = self.clf_2(f2)\n",
        "    f3 = self.clf_3(f3)\n",
        "    f4 = self.clf_4(f4)\n",
        "\n",
        "    res = torch.cat(tensors = (f1,f2,f3,f4), dim = 1)\n",
        "    return res"
      ],
      "metadata": {
        "id": "Cn_ICrqYGIoZ"
      },
      "execution_count": null,
      "outputs": []
    },
    {
      "cell_type": "code",
      "source": [
        "class Triple(nn.Module):\n",
        "\n",
        "  def __init__(self, model):\n",
        "    super(Triple, self).__init__()\n",
        "    self.model = model\n",
        "\n",
        "  def forward(self, a,p,n):\n",
        "\n",
        "    fa = self.model(a)\n",
        "    fp = self.model(p)\n",
        "    fn = self.model(n)\n",
        "\n",
        "    return fa, fp, fn"
      ],
      "metadata": {
        "id": "5vqQ41TzOL5V"
      },
      "execution_count": null,
      "outputs": []
    },
    {
      "cell_type": "code",
      "source": [
        "model = Multi_channel()\n",
        "\n",
        "triple = Triple(model)\n"
      ],
      "metadata": {
        "id": "rw8-2835NjX1"
      },
      "execution_count": null,
      "outputs": []
    },
    {
      "cell_type": "code",
      "source": [
        "opt = torch.optim.Adam(params = triple.parameters(), lr = 1e-3)"
      ],
      "metadata": {
        "id": "o9SPj8UpOB5W"
      },
      "execution_count": null,
      "outputs": []
    },
    {
      "cell_type": "markdown",
      "source": [
        "#`Improved loss function`"
      ],
      "metadata": {
        "id": "2Px_QIxBO-BQ"
      }
    },
    {
      "cell_type": "code",
      "source": [
        "def L2_distance(p1,p2):\n",
        "  return F.pairwise_distance(p1,p2)"
      ],
      "metadata": {
        "id": "PSVHuwgLO9Yd"
      },
      "execution_count": null,
      "outputs": []
    },
    {
      "cell_type": "code",
      "source": [
        "def loss_intra_class(fa,fp, margin):\n",
        "\n",
        "  return torch.mean(torch.clamp(L2_distance(fa,fp) + margin,min = 0))\n"
      ],
      "metadata": {
        "id": "nBTXBhxbT7Jw"
      },
      "execution_count": null,
      "outputs": []
    },
    {
      "cell_type": "code",
      "source": [
        "loss_triplet = nn.TripletMarginLoss(margin = 1)\n"
      ],
      "metadata": {
        "id": "gI1D2VZDPVBx"
      },
      "execution_count": null,
      "outputs": []
    },
    {
      "cell_type": "markdown",
      "source": [
        "#`Train`"
      ],
      "metadata": {
        "id": "qNvSprAMVLxS"
      }
    },
    {
      "cell_type": "code",
      "source": [
        "def train(data, model,loss_triplet, loss_intra_class, opt):\n",
        "\n",
        "  model.train()\n",
        "  size = len(data.dataset)\n",
        "\n",
        "  for b , (a,p,n) in enumerate(data):\n",
        "    fa,fp,fn = model(a,p,n)\n",
        "    loss_1 = loss_triplet(fa,fp,fn)\n",
        "    loss_2 = loss_intra_class(fa,fp,1)\n",
        "    loss = loss_1 + loss_2\n",
        "\n",
        "    opt.zero_grad()\n",
        "    loss.backward()\n",
        "    opt.step()\n",
        "\n",
        "    if b % 100 == 0:\n",
        "      print(f\"loss: {loss.item()}\")"
      ],
      "metadata": {
        "id": "LmLL-9TQUrJk"
      },
      "execution_count": null,
      "outputs": []
    },
    {
      "cell_type": "code",
      "source": [
        "for e in range(50):\n",
        "  print(f\"epoch:{e+1}=-=-=-=-=-\")\n",
        "  train(train_dl, triple, loss_triplet, loss_intra_class, opt)"
      ],
      "metadata": {
        "colab": {
          "base_uri": "https://localhost:8080/"
        },
        "id": "jOEE76pFV2gb",
        "outputId": "1f589cfd-ce4e-4c6b-c09e-f38a9516f0fe"
      },
      "execution_count": null,
      "outputs": [
        {
          "output_type": "stream",
          "name": "stdout",
          "text": [
            "epoch:1=-=-=-=-=-\n",
            "loss: 2.0182852745056152\n",
            "epoch:2=-=-=-=-=-\n",
            "loss: 1.599677562713623\n",
            "epoch:3=-=-=-=-=-\n",
            "loss: 1.524395227432251\n",
            "epoch:4=-=-=-=-=-\n",
            "loss: 1.5794763565063477\n",
            "epoch:5=-=-=-=-=-\n",
            "loss: 1.4226469993591309\n",
            "epoch:6=-=-=-=-=-\n",
            "loss: 1.418318510055542\n",
            "epoch:7=-=-=-=-=-\n",
            "loss: 1.402753233909607\n",
            "epoch:8=-=-=-=-=-\n",
            "loss: 1.2815871238708496\n",
            "epoch:9=-=-=-=-=-\n",
            "loss: 1.2239183187484741\n",
            "epoch:10=-=-=-=-=-\n",
            "loss: 1.2401894330978394\n",
            "epoch:11=-=-=-=-=-\n",
            "loss: 1.237646460533142\n",
            "epoch:12=-=-=-=-=-\n",
            "loss: 1.2355388402938843\n",
            "epoch:13=-=-=-=-=-\n",
            "loss: 1.1567696332931519\n",
            "epoch:14=-=-=-=-=-\n",
            "loss: 1.1938656568527222\n",
            "epoch:15=-=-=-=-=-\n",
            "loss: 1.3021304607391357\n",
            "epoch:16=-=-=-=-=-\n",
            "loss: 1.139500617980957\n",
            "epoch:17=-=-=-=-=-\n",
            "loss: 1.1362969875335693\n",
            "epoch:18=-=-=-=-=-\n",
            "loss: 1.1502325534820557\n",
            "epoch:19=-=-=-=-=-\n",
            "loss: 1.2264655828475952\n",
            "epoch:20=-=-=-=-=-\n",
            "loss: 1.2002267837524414\n",
            "epoch:21=-=-=-=-=-\n",
            "loss: 1.1823331117630005\n",
            "epoch:22=-=-=-=-=-\n",
            "loss: 1.1156481504440308\n",
            "epoch:23=-=-=-=-=-\n",
            "loss: 1.1588428020477295\n",
            "epoch:24=-=-=-=-=-\n",
            "loss: 1.141973853111267\n",
            "epoch:25=-=-=-=-=-\n",
            "loss: 1.1493146419525146\n",
            "epoch:26=-=-=-=-=-\n",
            "loss: 1.1036534309387207\n",
            "epoch:27=-=-=-=-=-\n",
            "loss: 1.1393747329711914\n",
            "epoch:28=-=-=-=-=-\n",
            "loss: 1.1198303699493408\n",
            "epoch:29=-=-=-=-=-\n",
            "loss: 1.1627637147903442\n",
            "epoch:30=-=-=-=-=-\n",
            "loss: 1.1011145114898682\n",
            "epoch:31=-=-=-=-=-\n",
            "loss: 1.0943341255187988\n",
            "epoch:32=-=-=-=-=-\n",
            "loss: 1.1485759019851685\n",
            "epoch:33=-=-=-=-=-\n",
            "loss: 1.0949311256408691\n",
            "epoch:34=-=-=-=-=-\n",
            "loss: 1.126123070716858\n",
            "epoch:35=-=-=-=-=-\n",
            "loss: 1.1342352628707886\n",
            "epoch:36=-=-=-=-=-\n",
            "loss: 1.0894438028335571\n",
            "epoch:37=-=-=-=-=-\n",
            "loss: 1.0952222347259521\n",
            "epoch:38=-=-=-=-=-\n",
            "loss: 1.1298637390136719\n",
            "epoch:39=-=-=-=-=-\n",
            "loss: 1.1007461547851562\n",
            "epoch:40=-=-=-=-=-\n",
            "loss: 1.0886659622192383\n",
            "epoch:41=-=-=-=-=-\n",
            "loss: 1.0982462167739868\n",
            "epoch:42=-=-=-=-=-\n",
            "loss: 1.1371586322784424\n",
            "epoch:43=-=-=-=-=-\n",
            "loss: 1.1647158861160278\n",
            "epoch:44=-=-=-=-=-\n",
            "loss: 1.071508526802063\n",
            "epoch:45=-=-=-=-=-\n",
            "loss: 1.071991205215454\n",
            "epoch:46=-=-=-=-=-\n",
            "loss: 1.0765454769134521\n",
            "epoch:47=-=-=-=-=-\n",
            "loss: 1.0969845056533813\n",
            "epoch:48=-=-=-=-=-\n",
            "loss: 1.112467646598816\n",
            "epoch:49=-=-=-=-=-\n",
            "loss: 1.0990474224090576\n",
            "epoch:50=-=-=-=-=-\n",
            "loss: 1.0792770385742188\n"
          ]
        }
      ]
    },
    {
      "cell_type": "code",
      "source": [
        "test_dl = DataLoader(dataset = test_ds, batch_size = 1)"
      ],
      "metadata": {
        "id": "IqsXdiXiY-ST"
      },
      "execution_count": null,
      "outputs": []
    },
    {
      "cell_type": "code",
      "source": [
        "len(test_dl)"
      ],
      "metadata": {
        "colab": {
          "base_uri": "https://localhost:8080/"
        },
        "id": "b8L3eBmIYuCL",
        "outputId": "60aec4f8-a245-4a9c-ce8d-cd5dd3bcc29d"
      },
      "execution_count": null,
      "outputs": [
        {
          "output_type": "execute_result",
          "data": {
            "text/plain": [
              "80"
            ]
          },
          "metadata": {},
          "execution_count": 105
        }
      ]
    },
    {
      "cell_type": "code",
      "source": [
        "a,p,n = next(iter(test_dl ))\n",
        "print(a.shape)\n",
        "\n",
        "triple.eval()\n",
        "\n",
        "acc= 0\n",
        "\n",
        "with torch.no_grad():\n",
        "\n",
        "  for a,p,n in test_dl:\n",
        "    fa,fp,fn = triple(a,p,n)\n",
        "    if F.pairwise_distance(fa,fp) < F.pairwise_distance(fa,fn):\n",
        "      acc+=1\n",
        "\n",
        "  print(f\"accuracy: {(acc / 80)*100}\")\n",
        "\n",
        "\n",
        "\n",
        "\n",
        "\n",
        "\n",
        "\n"
      ],
      "metadata": {
        "colab": {
          "base_uri": "https://localhost:8080/"
        },
        "id": "ooaJp-qmWFIq",
        "outputId": "20617b76-130e-444c-de43-2141d62a8999"
      },
      "execution_count": null,
      "outputs": [
        {
          "output_type": "stream",
          "name": "stdout",
          "text": [
            "torch.Size([1, 3, 100, 100])\n",
            "accuracy: 100.0\n"
          ]
        }
      ]
    },
    {
      "cell_type": "code",
      "source": [],
      "metadata": {
        "id": "q38YMah9XUI0"
      },
      "execution_count": null,
      "outputs": []
    }
  ]
}